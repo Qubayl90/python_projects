{
  "nbformat": 4,
  "nbformat_minor": 0,
  "metadata": {
    "colab": {
      "provenance": [],
      "authorship_tag": "ABX9TyNVRn4F4byNjqZFOmtU6Wk1",
      "include_colab_link": true
    },
    "kernelspec": {
      "name": "python3",
      "display_name": "Python 3"
    },
    "language_info": {
      "name": "python"
    }
  },
  "cells": [
    {
      "cell_type": "markdown",
      "metadata": {
        "id": "view-in-github",
        "colab_type": "text"
      },
      "source": [
        "<a href=\"https://colab.research.google.com/github/Qubayl90/python_projects/blob/main/rock_paper_scissors.ipynb\" target=\"_parent\"><img src=\"https://colab.research.google.com/assets/colab-badge.svg\" alt=\"Open In Colab\"/></a>"
      ]
    },
    {
      "cell_type": "code",
      "execution_count": 46,
      "metadata": {
        "colab": {
          "base_uri": "https://localhost:8080/"
        },
        "id": "TF6cT213b4SL",
        "outputId": "64d808f3-f3f9-4768-f509-4ed80cb17831"
      },
      "outputs": [
        {
          "name": "stdout",
          "output_type": "stream",
          "text": [
            "Lets Play Rock-Paper-Scissors\n",
            "Please choose your option \n",
            "1. For Rock\n",
            "2. For Paper\n",
            "3. For Scissors\n",
            "2\n",
            "Player_Choice:  Paper\n",
            "Computer_Choice:  Rock\n",
            "You Won!!!\n",
            "Do You want to continue (Y/N) ?y\n",
            "Please choose your option \n",
            "1. For Rock\n",
            "2. For Paper\n",
            "3. For Scissors\n",
            "1\n",
            "Player_Choice:  Rock\n",
            "Computer_Choice:  Paper\n",
            "You Lost\n",
            "Do You want to continue (Y/N) ?n\n"
          ]
        }
      ],
      "source": [
        "import random\n",
        "class RPS:\n",
        "  def __init__(self):\n",
        "    self.rps = {'1': \"Rock\", '2': \"Paper\", '3': \"Scissors\"}\n",
        "\n",
        "  def chooseRandom(self):\n",
        "    return random.choice(list(self.rps.values()))\n",
        "\n",
        "  def isWinner(self, player_choice, computer_choice):\n",
        "    if(player_choice == 'Rock' and computer_choice == 'Scissors'):\n",
        "      return True\n",
        "    elif(player_choice == 'Rock' and computer_choice == 'Paper'):\n",
        "      return False\n",
        "    elif(player_choice == 'Paper' and computer_choice == 'Scissors'):\n",
        "      return False\n",
        "    elif(player_choice == 'Paper' and computer_choice == 'Rock'):\n",
        "      return True\n",
        "    elif(player_choice == 'Scissors' and computer_choice == 'Paper'):\n",
        "      return True\n",
        "    elif(player_choice == 'Scissors' and computer_choice == 'Rock'):\n",
        "      return False\n",
        "    \n",
        "new_game = RPS()\n",
        "print(\"Lets Play Rock-Paper-Scissors\")\n",
        "\n",
        "while True:\n",
        "  player_choice_input = input('Please choose your option \\n1. For Rock\\n2. For Paper\\n3. For Scissors\\n')\n",
        "  if player_choice_input not in new_game.rps.keys():\n",
        "    print(\"Invalid Choice please try again\")\n",
        "    continue\n",
        "  player_choice = new_game.rps[player_choice_input]\n",
        "  computer_choice = new_game.chooseRandom()\n",
        "  print('Player_Choice: ', player_choice)\n",
        "  print('Computer_Choice: ', computer_choice)\n",
        "  if(player_choice == computer_choice):\n",
        "    print(\"There is tie, Please try again\")\n",
        "  elif(new_game.isWinner(player_choice, computer_choice)):\n",
        "    print(\"You Won!!!\")\n",
        "  else:\n",
        "    print(\"You Lost\")\n",
        "  response = input(\"Do You want to play again (Y/N) ?\")\n",
        "  if(response.lower() == 'n'):\n",
        "    break\n",
        "  elif(response.lower() == 'y'):\n",
        "    continue\n",
        "  else:\n",
        "    print(\"Invalid Choice, please input 'Y' for Yes and 'N' for No\")\n",
        "    break"
      ]
    }
  ]
}